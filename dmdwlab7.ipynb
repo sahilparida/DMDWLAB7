{
  "nbformat": 4,
  "nbformat_minor": 0,
  "metadata": {
    "colab": {
      "name": "dmdwlab7.ipynb",
      "provenance": [],
      "authorship_tag": "ABX9TyOcNawiZFQVvyzPx7o08IxV",
      "include_colab_link": true
    },
    "kernelspec": {
      "name": "python3",
      "display_name": "Python 3"
    }
  },
  "cells": [
    {
      "cell_type": "markdown",
      "metadata": {
        "id": "view-in-github",
        "colab_type": "text"
      },
      "source": [
        "<a href=\"https://colab.research.google.com/github/sahilparida/DMDWLAB7/blob/main/dmdwlab7.ipynb\" target=\"_parent\"><img src=\"https://colab.research.google.com/assets/colab-badge.svg\" alt=\"Open In Colab\"/></a>"
      ]
    },
    {
      "cell_type": "code",
      "metadata": {
        "id": "V-6Y8g7O-Qn3"
      },
      "source": [
        "import pandas as pd\n",
        "import numpy as np"
      ],
      "execution_count": 2,
      "outputs": []
    },
    {
      "cell_type": "code",
      "metadata": {
        "id": "5v8bbF-x-z8P"
      },
      "source": [
        "dataset = pd.read_csv('https://raw.githubusercontent.com/GouriNayak/DMDW/main/iris.csv')"
      ],
      "execution_count": 3,
      "outputs": []
    },
    {
      "cell_type": "code",
      "metadata": {
        "colab": {
          "base_uri": "https://localhost:8080/",
          "height": 402
        },
        "id": "eXAP9Y9j_Jpn",
        "outputId": "c37af2a3-ca17-4002-f6df-e837f18a11c4"
      },
      "source": [
        "dataset"
      ],
      "execution_count": 4,
      "outputs": [
        {
          "output_type": "execute_result",
          "data": {
            "text/html": [
              "<div>\n",
              "<style scoped>\n",
              "    .dataframe tbody tr th:only-of-type {\n",
              "        vertical-align: middle;\n",
              "    }\n",
              "\n",
              "    .dataframe tbody tr th {\n",
              "        vertical-align: top;\n",
              "    }\n",
              "\n",
              "    .dataframe thead th {\n",
              "        text-align: right;\n",
              "    }\n",
              "</style>\n",
              "<table border=\"1\" class=\"dataframe\">\n",
              "  <thead>\n",
              "    <tr style=\"text-align: right;\">\n",
              "      <th></th>\n",
              "      <th>sepal_length</th>\n",
              "      <th>sepal_width</th>\n",
              "      <th>petal_length</th>\n",
              "      <th>petal_width</th>\n",
              "      <th>species</th>\n",
              "    </tr>\n",
              "  </thead>\n",
              "  <tbody>\n",
              "    <tr>\n",
              "      <th>0</th>\n",
              "      <td>5.1</td>\n",
              "      <td>3.5</td>\n",
              "      <td>1.4</td>\n",
              "      <td>0.2</td>\n",
              "      <td>setosa</td>\n",
              "    </tr>\n",
              "    <tr>\n",
              "      <th>1</th>\n",
              "      <td>4.9</td>\n",
              "      <td>3.0</td>\n",
              "      <td>1.4</td>\n",
              "      <td>0.2</td>\n",
              "      <td>setosa</td>\n",
              "    </tr>\n",
              "    <tr>\n",
              "      <th>2</th>\n",
              "      <td>4.7</td>\n",
              "      <td>3.2</td>\n",
              "      <td>1.3</td>\n",
              "      <td>0.2</td>\n",
              "      <td>setosa</td>\n",
              "    </tr>\n",
              "    <tr>\n",
              "      <th>3</th>\n",
              "      <td>4.6</td>\n",
              "      <td>3.1</td>\n",
              "      <td>1.5</td>\n",
              "      <td>0.2</td>\n",
              "      <td>setosa</td>\n",
              "    </tr>\n",
              "    <tr>\n",
              "      <th>4</th>\n",
              "      <td>5.0</td>\n",
              "      <td>3.6</td>\n",
              "      <td>1.4</td>\n",
              "      <td>0.2</td>\n",
              "      <td>setosa</td>\n",
              "    </tr>\n",
              "    <tr>\n",
              "      <th>...</th>\n",
              "      <td>...</td>\n",
              "      <td>...</td>\n",
              "      <td>...</td>\n",
              "      <td>...</td>\n",
              "      <td>...</td>\n",
              "    </tr>\n",
              "    <tr>\n",
              "      <th>145</th>\n",
              "      <td>6.7</td>\n",
              "      <td>3.0</td>\n",
              "      <td>5.2</td>\n",
              "      <td>2.3</td>\n",
              "      <td>virginica</td>\n",
              "    </tr>\n",
              "    <tr>\n",
              "      <th>146</th>\n",
              "      <td>6.3</td>\n",
              "      <td>2.5</td>\n",
              "      <td>5.0</td>\n",
              "      <td>1.9</td>\n",
              "      <td>virginica</td>\n",
              "    </tr>\n",
              "    <tr>\n",
              "      <th>147</th>\n",
              "      <td>6.5</td>\n",
              "      <td>3.0</td>\n",
              "      <td>5.2</td>\n",
              "      <td>2.0</td>\n",
              "      <td>virginica</td>\n",
              "    </tr>\n",
              "    <tr>\n",
              "      <th>148</th>\n",
              "      <td>6.2</td>\n",
              "      <td>3.4</td>\n",
              "      <td>5.4</td>\n",
              "      <td>2.3</td>\n",
              "      <td>virginica</td>\n",
              "    </tr>\n",
              "    <tr>\n",
              "      <th>149</th>\n",
              "      <td>5.9</td>\n",
              "      <td>3.0</td>\n",
              "      <td>5.1</td>\n",
              "      <td>1.8</td>\n",
              "      <td>virginica</td>\n",
              "    </tr>\n",
              "  </tbody>\n",
              "</table>\n",
              "<p>150 rows × 5 columns</p>\n",
              "</div>"
            ],
            "text/plain": [
              "     sepal_length  sepal_width  petal_length  petal_width    species\n",
              "0             5.1          3.5           1.4          0.2     setosa\n",
              "1             4.9          3.0           1.4          0.2     setosa\n",
              "2             4.7          3.2           1.3          0.2     setosa\n",
              "3             4.6          3.1           1.5          0.2     setosa\n",
              "4             5.0          3.6           1.4          0.2     setosa\n",
              "..            ...          ...           ...          ...        ...\n",
              "145           6.7          3.0           5.2          2.3  virginica\n",
              "146           6.3          2.5           5.0          1.9  virginica\n",
              "147           6.5          3.0           5.2          2.0  virginica\n",
              "148           6.2          3.4           5.4          2.3  virginica\n",
              "149           5.9          3.0           5.1          1.8  virginica\n",
              "\n",
              "[150 rows x 5 columns]"
            ]
          },
          "metadata": {
            "tags": []
          },
          "execution_count": 4
        }
      ]
    },
    {
      "cell_type": "code",
      "metadata": {
        "colab": {
          "base_uri": "https://localhost:8080/",
          "height": 402
        },
        "id": "XD1iLgVn_Rir",
        "outputId": "a809d5b4-0eee-4860-b23d-aa9f6a0e0d3c"
      },
      "source": [
        "dataset.iloc[:,1:5]"
      ],
      "execution_count": 5,
      "outputs": [
        {
          "output_type": "execute_result",
          "data": {
            "text/html": [
              "<div>\n",
              "<style scoped>\n",
              "    .dataframe tbody tr th:only-of-type {\n",
              "        vertical-align: middle;\n",
              "    }\n",
              "\n",
              "    .dataframe tbody tr th {\n",
              "        vertical-align: top;\n",
              "    }\n",
              "\n",
              "    .dataframe thead th {\n",
              "        text-align: right;\n",
              "    }\n",
              "</style>\n",
              "<table border=\"1\" class=\"dataframe\">\n",
              "  <thead>\n",
              "    <tr style=\"text-align: right;\">\n",
              "      <th></th>\n",
              "      <th>sepal_width</th>\n",
              "      <th>petal_length</th>\n",
              "      <th>petal_width</th>\n",
              "      <th>species</th>\n",
              "    </tr>\n",
              "  </thead>\n",
              "  <tbody>\n",
              "    <tr>\n",
              "      <th>0</th>\n",
              "      <td>3.5</td>\n",
              "      <td>1.4</td>\n",
              "      <td>0.2</td>\n",
              "      <td>setosa</td>\n",
              "    </tr>\n",
              "    <tr>\n",
              "      <th>1</th>\n",
              "      <td>3.0</td>\n",
              "      <td>1.4</td>\n",
              "      <td>0.2</td>\n",
              "      <td>setosa</td>\n",
              "    </tr>\n",
              "    <tr>\n",
              "      <th>2</th>\n",
              "      <td>3.2</td>\n",
              "      <td>1.3</td>\n",
              "      <td>0.2</td>\n",
              "      <td>setosa</td>\n",
              "    </tr>\n",
              "    <tr>\n",
              "      <th>3</th>\n",
              "      <td>3.1</td>\n",
              "      <td>1.5</td>\n",
              "      <td>0.2</td>\n",
              "      <td>setosa</td>\n",
              "    </tr>\n",
              "    <tr>\n",
              "      <th>4</th>\n",
              "      <td>3.6</td>\n",
              "      <td>1.4</td>\n",
              "      <td>0.2</td>\n",
              "      <td>setosa</td>\n",
              "    </tr>\n",
              "    <tr>\n",
              "      <th>...</th>\n",
              "      <td>...</td>\n",
              "      <td>...</td>\n",
              "      <td>...</td>\n",
              "      <td>...</td>\n",
              "    </tr>\n",
              "    <tr>\n",
              "      <th>145</th>\n",
              "      <td>3.0</td>\n",
              "      <td>5.2</td>\n",
              "      <td>2.3</td>\n",
              "      <td>virginica</td>\n",
              "    </tr>\n",
              "    <tr>\n",
              "      <th>146</th>\n",
              "      <td>2.5</td>\n",
              "      <td>5.0</td>\n",
              "      <td>1.9</td>\n",
              "      <td>virginica</td>\n",
              "    </tr>\n",
              "    <tr>\n",
              "      <th>147</th>\n",
              "      <td>3.0</td>\n",
              "      <td>5.2</td>\n",
              "      <td>2.0</td>\n",
              "      <td>virginica</td>\n",
              "    </tr>\n",
              "    <tr>\n",
              "      <th>148</th>\n",
              "      <td>3.4</td>\n",
              "      <td>5.4</td>\n",
              "      <td>2.3</td>\n",
              "      <td>virginica</td>\n",
              "    </tr>\n",
              "    <tr>\n",
              "      <th>149</th>\n",
              "      <td>3.0</td>\n",
              "      <td>5.1</td>\n",
              "      <td>1.8</td>\n",
              "      <td>virginica</td>\n",
              "    </tr>\n",
              "  </tbody>\n",
              "</table>\n",
              "<p>150 rows × 4 columns</p>\n",
              "</div>"
            ],
            "text/plain": [
              "     sepal_width  petal_length  petal_width    species\n",
              "0            3.5           1.4          0.2     setosa\n",
              "1            3.0           1.4          0.2     setosa\n",
              "2            3.2           1.3          0.2     setosa\n",
              "3            3.1           1.5          0.2     setosa\n",
              "4            3.6           1.4          0.2     setosa\n",
              "..           ...           ...          ...        ...\n",
              "145          3.0           5.2          2.3  virginica\n",
              "146          2.5           5.0          1.9  virginica\n",
              "147          3.0           5.2          2.0  virginica\n",
              "148          3.4           5.4          2.3  virginica\n",
              "149          3.0           5.1          1.8  virginica\n",
              "\n",
              "[150 rows x 4 columns]"
            ]
          },
          "metadata": {
            "tags": []
          },
          "execution_count": 5
        }
      ]
    },
    {
      "cell_type": "code",
      "metadata": {
        "colab": {
          "base_uri": "https://localhost:8080/"
        },
        "id": "KQtXXIYB_YKd",
        "outputId": "f7118108-5a79-4334-8048-1044283e7a33"
      },
      "source": [
        "dataset.iloc[:,1:4].values"
      ],
      "execution_count": 6,
      "outputs": [
        {
          "output_type": "execute_result",
          "data": {
            "text/plain": [
              "array([[3.5, 1.4, 0.2],\n",
              "       [3. , 1.4, 0.2],\n",
              "       [3.2, 1.3, 0.2],\n",
              "       [3.1, 1.5, 0.2],\n",
              "       [3.6, 1.4, 0.2],\n",
              "       [3.9, 1.7, 0.4],\n",
              "       [3.4, 1.4, 0.3],\n",
              "       [3.4, 1.5, 0.2],\n",
              "       [2.9, 1.4, 0.2],\n",
              "       [3.1, 1.5, 0.1],\n",
              "       [3.7, 1.5, 0.2],\n",
              "       [3.4, 1.6, 0.2],\n",
              "       [3. , 1.4, 0.1],\n",
              "       [3. , 1.1, 0.1],\n",
              "       [4. , 1.2, 0.2],\n",
              "       [4.4, 1.5, 0.4],\n",
              "       [3.9, 1.3, 0.4],\n",
              "       [3.5, 1.4, 0.3],\n",
              "       [3.8, 1.7, 0.3],\n",
              "       [3.8, 1.5, 0.3],\n",
              "       [3.4, 1.7, 0.2],\n",
              "       [3.7, 1.5, 0.4],\n",
              "       [3.6, 1. , 0.2],\n",
              "       [3.3, 1.7, 0.5],\n",
              "       [3.4, 1.9, 0.2],\n",
              "       [3. , 1.6, 0.2],\n",
              "       [3.4, 1.6, 0.4],\n",
              "       [3.5, 1.5, 0.2],\n",
              "       [3.4, 1.4, 0.2],\n",
              "       [3.2, 1.6, 0.2],\n",
              "       [3.1, 1.6, 0.2],\n",
              "       [3.4, 1.5, 0.4],\n",
              "       [4.1, 1.5, 0.1],\n",
              "       [4.2, 1.4, 0.2],\n",
              "       [3.1, 1.5, 0.2],\n",
              "       [3.2, 1.2, 0.2],\n",
              "       [3.5, 1.3, 0.2],\n",
              "       [3.6, 1.4, 0.1],\n",
              "       [3. , 1.3, 0.2],\n",
              "       [3.4, 1.5, 0.2],\n",
              "       [3.5, 1.3, 0.3],\n",
              "       [2.3, 1.3, 0.3],\n",
              "       [3.2, 1.3, 0.2],\n",
              "       [3.5, 1.6, 0.6],\n",
              "       [3.8, 1.9, 0.4],\n",
              "       [3. , 1.4, 0.3],\n",
              "       [3.8, 1.6, 0.2],\n",
              "       [3.2, 1.4, 0.2],\n",
              "       [3.7, 1.5, 0.2],\n",
              "       [3.3, 1.4, 0.2],\n",
              "       [3.2, 4.7, 1.4],\n",
              "       [3.2, 4.5, 1.5],\n",
              "       [3.1, 4.9, 1.5],\n",
              "       [2.3, 4. , 1.3],\n",
              "       [2.8, 4.6, 1.5],\n",
              "       [2.8, 4.5, 1.3],\n",
              "       [3.3, 4.7, 1.6],\n",
              "       [2.4, 3.3, 1. ],\n",
              "       [2.9, 4.6, 1.3],\n",
              "       [2.7, 3.9, 1.4],\n",
              "       [2. , 3.5, 1. ],\n",
              "       [3. , 4.2, 1.5],\n",
              "       [2.2, 4. , 1. ],\n",
              "       [2.9, 4.7, 1.4],\n",
              "       [2.9, 3.6, 1.3],\n",
              "       [3.1, 4.4, 1.4],\n",
              "       [3. , 4.5, 1.5],\n",
              "       [2.7, 4.1, 1. ],\n",
              "       [2.2, 4.5, 1.5],\n",
              "       [2.5, 3.9, 1.1],\n",
              "       [3.2, 4.8, 1.8],\n",
              "       [2.8, 4. , 1.3],\n",
              "       [2.5, 4.9, 1.5],\n",
              "       [2.8, 4.7, 1.2],\n",
              "       [2.9, 4.3, 1.3],\n",
              "       [3. , 4.4, 1.4],\n",
              "       [2.8, 4.8, 1.4],\n",
              "       [3. , 5. , 1.7],\n",
              "       [2.9, 4.5, 1.5],\n",
              "       [2.6, 3.5, 1. ],\n",
              "       [2.4, 3.8, 1.1],\n",
              "       [2.4, 3.7, 1. ],\n",
              "       [2.7, 3.9, 1.2],\n",
              "       [2.7, 5.1, 1.6],\n",
              "       [3. , 4.5, 1.5],\n",
              "       [3.4, 4.5, 1.6],\n",
              "       [3.1, 4.7, 1.5],\n",
              "       [2.3, 4.4, 1.3],\n",
              "       [3. , 4.1, 1.3],\n",
              "       [2.5, 4. , 1.3],\n",
              "       [2.6, 4.4, 1.2],\n",
              "       [3. , 4.6, 1.4],\n",
              "       [2.6, 4. , 1.2],\n",
              "       [2.3, 3.3, 1. ],\n",
              "       [2.7, 4.2, 1.3],\n",
              "       [3. , 4.2, 1.2],\n",
              "       [2.9, 4.2, 1.3],\n",
              "       [2.9, 4.3, 1.3],\n",
              "       [2.5, 3. , 1.1],\n",
              "       [2.8, 4.1, 1.3],\n",
              "       [3.3, 6. , 2.5],\n",
              "       [2.7, 5.1, 1.9],\n",
              "       [3. , 5.9, 2.1],\n",
              "       [2.9, 5.6, 1.8],\n",
              "       [3. , 5.8, 2.2],\n",
              "       [3. , 6.6, 2.1],\n",
              "       [2.5, 4.5, 1.7],\n",
              "       [2.9, 6.3, 1.8],\n",
              "       [2.5, 5.8, 1.8],\n",
              "       [3.6, 6.1, 2.5],\n",
              "       [3.2, 5.1, 2. ],\n",
              "       [2.7, 5.3, 1.9],\n",
              "       [3. , 5.5, 2.1],\n",
              "       [2.5, 5. , 2. ],\n",
              "       [2.8, 5.1, 2.4],\n",
              "       [3.2, 5.3, 2.3],\n",
              "       [3. , 5.5, 1.8],\n",
              "       [3.8, 6.7, 2.2],\n",
              "       [2.6, 6.9, 2.3],\n",
              "       [2.2, 5. , 1.5],\n",
              "       [3.2, 5.7, 2.3],\n",
              "       [2.8, 4.9, 2. ],\n",
              "       [2.8, 6.7, 2. ],\n",
              "       [2.7, 4.9, 1.8],\n",
              "       [3.3, 5.7, 2.1],\n",
              "       [3.2, 6. , 1.8],\n",
              "       [2.8, 4.8, 1.8],\n",
              "       [3. , 4.9, 1.8],\n",
              "       [2.8, 5.6, 2.1],\n",
              "       [3. , 5.8, 1.6],\n",
              "       [2.8, 6.1, 1.9],\n",
              "       [3.8, 6.4, 2. ],\n",
              "       [2.8, 5.6, 2.2],\n",
              "       [2.8, 5.1, 1.5],\n",
              "       [2.6, 5.6, 1.4],\n",
              "       [3. , 6.1, 2.3],\n",
              "       [3.4, 5.6, 2.4],\n",
              "       [3.1, 5.5, 1.8],\n",
              "       [3. , 4.8, 1.8],\n",
              "       [3.1, 5.4, 2.1],\n",
              "       [3.1, 5.6, 2.4],\n",
              "       [3.1, 5.1, 2.3],\n",
              "       [2.7, 5.1, 1.9],\n",
              "       [3.2, 5.9, 2.3],\n",
              "       [3.3, 5.7, 2.5],\n",
              "       [3. , 5.2, 2.3],\n",
              "       [2.5, 5. , 1.9],\n",
              "       [3. , 5.2, 2. ],\n",
              "       [3.4, 5.4, 2.3],\n",
              "       [3. , 5.1, 1.8]])"
            ]
          },
          "metadata": {
            "tags": []
          },
          "execution_count": 6
        }
      ]
    },
    {
      "cell_type": "code",
      "metadata": {
        "id": "JfBiXK1q_d8A"
      },
      "source": [
        "x=dataset.iloc[:,1:4].values"
      ],
      "execution_count": 7,
      "outputs": []
    },
    {
      "cell_type": "code",
      "metadata": {
        "id": "WMvpgWAU_nJI"
      },
      "source": [
        "y=dataset.iloc[:,-1].values"
      ],
      "execution_count": 8,
      "outputs": []
    },
    {
      "cell_type": "code",
      "metadata": {
        "colab": {
          "base_uri": "https://localhost:8080/"
        },
        "id": "0XfnMGWg_s2T",
        "outputId": "3c87508f-2a2c-464e-cafd-0ea30dc340b3"
      },
      "source": [
        "y"
      ],
      "execution_count": 9,
      "outputs": [
        {
          "output_type": "execute_result",
          "data": {
            "text/plain": [
              "array(['setosa', 'setosa', 'setosa', 'setosa', 'setosa', 'setosa',\n",
              "       'setosa', 'setosa', 'setosa', 'setosa', 'setosa', 'setosa',\n",
              "       'setosa', 'setosa', 'setosa', 'setosa', 'setosa', 'setosa',\n",
              "       'setosa', 'setosa', 'setosa', 'setosa', 'setosa', 'setosa',\n",
              "       'setosa', 'setosa', 'setosa', 'setosa', 'setosa', 'setosa',\n",
              "       'setosa', 'setosa', 'setosa', 'setosa', 'setosa', 'setosa',\n",
              "       'setosa', 'setosa', 'setosa', 'setosa', 'setosa', 'setosa',\n",
              "       'setosa', 'setosa', 'setosa', 'setosa', 'setosa', 'setosa',\n",
              "       'setosa', 'setosa', 'versicolor', 'versicolor', 'versicolor',\n",
              "       'versicolor', 'versicolor', 'versicolor', 'versicolor',\n",
              "       'versicolor', 'versicolor', 'versicolor', 'versicolor',\n",
              "       'versicolor', 'versicolor', 'versicolor', 'versicolor',\n",
              "       'versicolor', 'versicolor', 'versicolor', 'versicolor',\n",
              "       'versicolor', 'versicolor', 'versicolor', 'versicolor',\n",
              "       'versicolor', 'versicolor', 'versicolor', 'versicolor',\n",
              "       'versicolor', 'versicolor', 'versicolor', 'versicolor',\n",
              "       'versicolor', 'versicolor', 'versicolor', 'versicolor',\n",
              "       'versicolor', 'versicolor', 'versicolor', 'versicolor',\n",
              "       'versicolor', 'versicolor', 'versicolor', 'versicolor',\n",
              "       'versicolor', 'versicolor', 'versicolor', 'versicolor',\n",
              "       'versicolor', 'versicolor', 'versicolor', 'virginica', 'virginica',\n",
              "       'virginica', 'virginica', 'virginica', 'virginica', 'virginica',\n",
              "       'virginica', 'virginica', 'virginica', 'virginica', 'virginica',\n",
              "       'virginica', 'virginica', 'virginica', 'virginica', 'virginica',\n",
              "       'virginica', 'virginica', 'virginica', 'virginica', 'virginica',\n",
              "       'virginica', 'virginica', 'virginica', 'virginica', 'virginica',\n",
              "       'virginica', 'virginica', 'virginica', 'virginica', 'virginica',\n",
              "       'virginica', 'virginica', 'virginica', 'virginica', 'virginica',\n",
              "       'virginica', 'virginica', 'virginica', 'virginica', 'virginica',\n",
              "       'virginica', 'virginica', 'virginica', 'virginica', 'virginica',\n",
              "       'virginica', 'virginica', 'virginica'], dtype=object)"
            ]
          },
          "metadata": {
            "tags": []
          },
          "execution_count": 9
        }
      ]
    },
    {
      "cell_type": "code",
      "metadata": {
        "id": "2fFa2nO4_vAV"
      },
      "source": [
        "from sklearn.preprocessing import LabelEncoder\n",
        "LabelEncoder_y = LabelEncoder()\n",
        "y = LabelEncoder_y.fit_transform(y)"
      ],
      "execution_count": 10,
      "outputs": []
    },
    {
      "cell_type": "code",
      "metadata": {
        "colab": {
          "base_uri": "https://localhost:8080/"
        },
        "id": "a8mrnKBI_2mJ",
        "outputId": "be7a7a1d-5139-4a7b-f97f-9962ed5d3ada"
      },
      "source": [
        "y"
      ],
      "execution_count": 11,
      "outputs": [
        {
          "output_type": "execute_result",
          "data": {
            "text/plain": [
              "array([0, 0, 0, 0, 0, 0, 0, 0, 0, 0, 0, 0, 0, 0, 0, 0, 0, 0, 0, 0, 0, 0,\n",
              "       0, 0, 0, 0, 0, 0, 0, 0, 0, 0, 0, 0, 0, 0, 0, 0, 0, 0, 0, 0, 0, 0,\n",
              "       0, 0, 0, 0, 0, 0, 1, 1, 1, 1, 1, 1, 1, 1, 1, 1, 1, 1, 1, 1, 1, 1,\n",
              "       1, 1, 1, 1, 1, 1, 1, 1, 1, 1, 1, 1, 1, 1, 1, 1, 1, 1, 1, 1, 1, 1,\n",
              "       1, 1, 1, 1, 1, 1, 1, 1, 1, 1, 1, 1, 2, 2, 2, 2, 2, 2, 2, 2, 2, 2,\n",
              "       2, 2, 2, 2, 2, 2, 2, 2, 2, 2, 2, 2, 2, 2, 2, 2, 2, 2, 2, 2, 2, 2,\n",
              "       2, 2, 2, 2, 2, 2, 2, 2, 2, 2, 2, 2, 2, 2, 2, 2, 2, 2])"
            ]
          },
          "metadata": {
            "tags": []
          },
          "execution_count": 11
        }
      ]
    },
    {
      "cell_type": "code",
      "metadata": {
        "colab": {
          "base_uri": "https://localhost:8080/"
        },
        "id": "OFAXj6hv_5f4",
        "outputId": "07df07c2-f044-44cd-a92f-59799264d6e0"
      },
      "source": [
        "x"
      ],
      "execution_count": 12,
      "outputs": [
        {
          "output_type": "execute_result",
          "data": {
            "text/plain": [
              "array([[3.5, 1.4, 0.2],\n",
              "       [3. , 1.4, 0.2],\n",
              "       [3.2, 1.3, 0.2],\n",
              "       [3.1, 1.5, 0.2],\n",
              "       [3.6, 1.4, 0.2],\n",
              "       [3.9, 1.7, 0.4],\n",
              "       [3.4, 1.4, 0.3],\n",
              "       [3.4, 1.5, 0.2],\n",
              "       [2.9, 1.4, 0.2],\n",
              "       [3.1, 1.5, 0.1],\n",
              "       [3.7, 1.5, 0.2],\n",
              "       [3.4, 1.6, 0.2],\n",
              "       [3. , 1.4, 0.1],\n",
              "       [3. , 1.1, 0.1],\n",
              "       [4. , 1.2, 0.2],\n",
              "       [4.4, 1.5, 0.4],\n",
              "       [3.9, 1.3, 0.4],\n",
              "       [3.5, 1.4, 0.3],\n",
              "       [3.8, 1.7, 0.3],\n",
              "       [3.8, 1.5, 0.3],\n",
              "       [3.4, 1.7, 0.2],\n",
              "       [3.7, 1.5, 0.4],\n",
              "       [3.6, 1. , 0.2],\n",
              "       [3.3, 1.7, 0.5],\n",
              "       [3.4, 1.9, 0.2],\n",
              "       [3. , 1.6, 0.2],\n",
              "       [3.4, 1.6, 0.4],\n",
              "       [3.5, 1.5, 0.2],\n",
              "       [3.4, 1.4, 0.2],\n",
              "       [3.2, 1.6, 0.2],\n",
              "       [3.1, 1.6, 0.2],\n",
              "       [3.4, 1.5, 0.4],\n",
              "       [4.1, 1.5, 0.1],\n",
              "       [4.2, 1.4, 0.2],\n",
              "       [3.1, 1.5, 0.2],\n",
              "       [3.2, 1.2, 0.2],\n",
              "       [3.5, 1.3, 0.2],\n",
              "       [3.6, 1.4, 0.1],\n",
              "       [3. , 1.3, 0.2],\n",
              "       [3.4, 1.5, 0.2],\n",
              "       [3.5, 1.3, 0.3],\n",
              "       [2.3, 1.3, 0.3],\n",
              "       [3.2, 1.3, 0.2],\n",
              "       [3.5, 1.6, 0.6],\n",
              "       [3.8, 1.9, 0.4],\n",
              "       [3. , 1.4, 0.3],\n",
              "       [3.8, 1.6, 0.2],\n",
              "       [3.2, 1.4, 0.2],\n",
              "       [3.7, 1.5, 0.2],\n",
              "       [3.3, 1.4, 0.2],\n",
              "       [3.2, 4.7, 1.4],\n",
              "       [3.2, 4.5, 1.5],\n",
              "       [3.1, 4.9, 1.5],\n",
              "       [2.3, 4. , 1.3],\n",
              "       [2.8, 4.6, 1.5],\n",
              "       [2.8, 4.5, 1.3],\n",
              "       [3.3, 4.7, 1.6],\n",
              "       [2.4, 3.3, 1. ],\n",
              "       [2.9, 4.6, 1.3],\n",
              "       [2.7, 3.9, 1.4],\n",
              "       [2. , 3.5, 1. ],\n",
              "       [3. , 4.2, 1.5],\n",
              "       [2.2, 4. , 1. ],\n",
              "       [2.9, 4.7, 1.4],\n",
              "       [2.9, 3.6, 1.3],\n",
              "       [3.1, 4.4, 1.4],\n",
              "       [3. , 4.5, 1.5],\n",
              "       [2.7, 4.1, 1. ],\n",
              "       [2.2, 4.5, 1.5],\n",
              "       [2.5, 3.9, 1.1],\n",
              "       [3.2, 4.8, 1.8],\n",
              "       [2.8, 4. , 1.3],\n",
              "       [2.5, 4.9, 1.5],\n",
              "       [2.8, 4.7, 1.2],\n",
              "       [2.9, 4.3, 1.3],\n",
              "       [3. , 4.4, 1.4],\n",
              "       [2.8, 4.8, 1.4],\n",
              "       [3. , 5. , 1.7],\n",
              "       [2.9, 4.5, 1.5],\n",
              "       [2.6, 3.5, 1. ],\n",
              "       [2.4, 3.8, 1.1],\n",
              "       [2.4, 3.7, 1. ],\n",
              "       [2.7, 3.9, 1.2],\n",
              "       [2.7, 5.1, 1.6],\n",
              "       [3. , 4.5, 1.5],\n",
              "       [3.4, 4.5, 1.6],\n",
              "       [3.1, 4.7, 1.5],\n",
              "       [2.3, 4.4, 1.3],\n",
              "       [3. , 4.1, 1.3],\n",
              "       [2.5, 4. , 1.3],\n",
              "       [2.6, 4.4, 1.2],\n",
              "       [3. , 4.6, 1.4],\n",
              "       [2.6, 4. , 1.2],\n",
              "       [2.3, 3.3, 1. ],\n",
              "       [2.7, 4.2, 1.3],\n",
              "       [3. , 4.2, 1.2],\n",
              "       [2.9, 4.2, 1.3],\n",
              "       [2.9, 4.3, 1.3],\n",
              "       [2.5, 3. , 1.1],\n",
              "       [2.8, 4.1, 1.3],\n",
              "       [3.3, 6. , 2.5],\n",
              "       [2.7, 5.1, 1.9],\n",
              "       [3. , 5.9, 2.1],\n",
              "       [2.9, 5.6, 1.8],\n",
              "       [3. , 5.8, 2.2],\n",
              "       [3. , 6.6, 2.1],\n",
              "       [2.5, 4.5, 1.7],\n",
              "       [2.9, 6.3, 1.8],\n",
              "       [2.5, 5.8, 1.8],\n",
              "       [3.6, 6.1, 2.5],\n",
              "       [3.2, 5.1, 2. ],\n",
              "       [2.7, 5.3, 1.9],\n",
              "       [3. , 5.5, 2.1],\n",
              "       [2.5, 5. , 2. ],\n",
              "       [2.8, 5.1, 2.4],\n",
              "       [3.2, 5.3, 2.3],\n",
              "       [3. , 5.5, 1.8],\n",
              "       [3.8, 6.7, 2.2],\n",
              "       [2.6, 6.9, 2.3],\n",
              "       [2.2, 5. , 1.5],\n",
              "       [3.2, 5.7, 2.3],\n",
              "       [2.8, 4.9, 2. ],\n",
              "       [2.8, 6.7, 2. ],\n",
              "       [2.7, 4.9, 1.8],\n",
              "       [3.3, 5.7, 2.1],\n",
              "       [3.2, 6. , 1.8],\n",
              "       [2.8, 4.8, 1.8],\n",
              "       [3. , 4.9, 1.8],\n",
              "       [2.8, 5.6, 2.1],\n",
              "       [3. , 5.8, 1.6],\n",
              "       [2.8, 6.1, 1.9],\n",
              "       [3.8, 6.4, 2. ],\n",
              "       [2.8, 5.6, 2.2],\n",
              "       [2.8, 5.1, 1.5],\n",
              "       [2.6, 5.6, 1.4],\n",
              "       [3. , 6.1, 2.3],\n",
              "       [3.4, 5.6, 2.4],\n",
              "       [3.1, 5.5, 1.8],\n",
              "       [3. , 4.8, 1.8],\n",
              "       [3.1, 5.4, 2.1],\n",
              "       [3.1, 5.6, 2.4],\n",
              "       [3.1, 5.1, 2.3],\n",
              "       [2.7, 5.1, 1.9],\n",
              "       [3.2, 5.9, 2.3],\n",
              "       [3.3, 5.7, 2.5],\n",
              "       [3. , 5.2, 2.3],\n",
              "       [2.5, 5. , 1.9],\n",
              "       [3. , 5.2, 2. ],\n",
              "       [3.4, 5.4, 2.3],\n",
              "       [3. , 5.1, 1.8]])"
            ]
          },
          "metadata": {
            "tags": []
          },
          "execution_count": 12
        }
      ]
    },
    {
      "cell_type": "code",
      "metadata": {
        "id": "A-bxvQkg_74H"
      },
      "source": [
        "from sklearn.model_selection import train_test_split\n",
        "x_train, x_test, y_train, y_test = train_test_split(x,y,test_size=0.2)"
      ],
      "execution_count": 13,
      "outputs": []
    },
    {
      "cell_type": "code",
      "metadata": {
        "colab": {
          "base_uri": "https://localhost:8080/"
        },
        "id": "n2dY0q17AZEE",
        "outputId": "0d85885d-b1b0-47ad-d970-834fb7e3f801"
      },
      "source": [
        "from sklearn.linear_model import LogisticRegression\n",
        "logmodel = LogisticRegression()\n",
        "logmodel.fit(x_train,y_train)"
      ],
      "execution_count": 14,
      "outputs": [
        {
          "output_type": "execute_result",
          "data": {
            "text/plain": [
              "LogisticRegression(C=1.0, class_weight=None, dual=False, fit_intercept=True,\n",
              "                   intercept_scaling=1, l1_ratio=None, max_iter=100,\n",
              "                   multi_class='auto', n_jobs=None, penalty='l2',\n",
              "                   random_state=None, solver='lbfgs', tol=0.0001, verbose=0,\n",
              "                   warm_start=False)"
            ]
          },
          "metadata": {
            "tags": []
          },
          "execution_count": 14
        }
      ]
    },
    {
      "cell_type": "code",
      "metadata": {
        "id": "2m4uXONCAffY"
      },
      "source": [
        "y_pred = logmodel.predict(x_test)"
      ],
      "execution_count": 15,
      "outputs": []
    },
    {
      "cell_type": "code",
      "metadata": {
        "colab": {
          "base_uri": "https://localhost:8080/"
        },
        "id": "_PPr8lbnAket",
        "outputId": "24284c99-6e7c-41bb-afe2-112f16ab94ce"
      },
      "source": [
        "y_pred"
      ],
      "execution_count": 16,
      "outputs": [
        {
          "output_type": "execute_result",
          "data": {
            "text/plain": [
              "array([0, 1, 1, 1, 2, 0, 1, 0, 1, 2, 0, 1, 1, 0, 2, 2, 0, 1, 1, 1, 1, 2,\n",
              "       1, 0, 2, 1, 1, 2, 1, 0])"
            ]
          },
          "metadata": {
            "tags": []
          },
          "execution_count": 16
        }
      ]
    },
    {
      "cell_type": "code",
      "metadata": {
        "colab": {
          "base_uri": "https://localhost:8080/"
        },
        "id": "lc7H_bnjApZO",
        "outputId": "aec601fb-906f-403c-a13c-e65c2eea00c6"
      },
      "source": [
        "y_test"
      ],
      "execution_count": 17,
      "outputs": [
        {
          "output_type": "execute_result",
          "data": {
            "text/plain": [
              "array([0, 1, 1, 1, 2, 0, 1, 0, 1, 2, 0, 1, 1, 0, 2, 2, 0, 2, 1, 1, 1, 2,\n",
              "       1, 0, 2, 1, 1, 2, 1, 0])"
            ]
          },
          "metadata": {
            "tags": []
          },
          "execution_count": 17
        }
      ]
    },
    {
      "cell_type": "code",
      "metadata": {
        "colab": {
          "base_uri": "https://localhost:8080/"
        },
        "id": "ewgdS43jAsyN",
        "outputId": "87bdbd0e-c7d5-47cc-cb19-7100c2e232ae"
      },
      "source": [
        "from sklearn.metrics import confusion_matrix\n",
        "confusion_matrix(y_test, y_pred)"
      ],
      "execution_count": 18,
      "outputs": [
        {
          "output_type": "execute_result",
          "data": {
            "text/plain": [
              "array([[ 8,  0,  0],\n",
              "       [ 0, 14,  0],\n",
              "       [ 0,  1,  7]])"
            ]
          },
          "metadata": {
            "tags": []
          },
          "execution_count": 18
        }
      ]
    },
    {
      "cell_type": "code",
      "metadata": {
        "colab": {
          "base_uri": "https://localhost:8080/"
        },
        "id": "YAuzawuuA2FS",
        "outputId": "63dfc42d-863e-4b36-e2b8-fe87545bdd7c"
      },
      "source": [
        "27/30"
      ],
      "execution_count": 19,
      "outputs": [
        {
          "output_type": "execute_result",
          "data": {
            "text/plain": [
              "0.9"
            ]
          },
          "metadata": {
            "tags": []
          },
          "execution_count": 19
        }
      ]
    },
    {
      "cell_type": "code",
      "metadata": {
        "colab": {
          "base_uri": "https://localhost:8080/"
        },
        "id": "tISyrynvA5pW",
        "outputId": "0c005c56-a227-4846-cd04-0c2b295bf41c"
      },
      "source": [
        "from sklearn.neighbors import KNeighborsClassifier\n",
        "classifier_knn = KNeighborsClassifier(n_neighbors = 5, metric = 'minkowski', p=2)\n",
        "classifier_knn.fit(x_train, y_train)"
      ],
      "execution_count": 20,
      "outputs": [
        {
          "output_type": "execute_result",
          "data": {
            "text/plain": [
              "KNeighborsClassifier(algorithm='auto', leaf_size=30, metric='minkowski',\n",
              "                     metric_params=None, n_jobs=None, n_neighbors=5, p=2,\n",
              "                     weights='uniform')"
            ]
          },
          "metadata": {
            "tags": []
          },
          "execution_count": 20
        }
      ]
    },
    {
      "cell_type": "code",
      "metadata": {
        "id": "V49coxXVA-qY"
      },
      "source": [
        "y_pred = classifier_knn.predict(x_test)"
      ],
      "execution_count": 21,
      "outputs": []
    },
    {
      "cell_type": "code",
      "metadata": {
        "colab": {
          "base_uri": "https://localhost:8080/"
        },
        "id": "vU6rxXT5BFyF",
        "outputId": "4cd22aa3-52c4-438f-d638-5e567ca58bd0"
      },
      "source": [
        "confusion_matrix(y_test,y_pred)"
      ],
      "execution_count": 22,
      "outputs": [
        {
          "output_type": "execute_result",
          "data": {
            "text/plain": [
              "array([[ 8,  0,  0],\n",
              "       [ 0, 14,  0],\n",
              "       [ 0,  1,  7]])"
            ]
          },
          "metadata": {
            "tags": []
          },
          "execution_count": 22
        }
      ]
    },
    {
      "cell_type": "code",
      "metadata": {
        "colab": {
          "base_uri": "https://localhost:8080/"
        },
        "id": "5g9QcTZtBJb8",
        "outputId": "2ae51e65-366c-45cd-b831-168a8eaab22b"
      },
      "source": [
        "28/30"
      ],
      "execution_count": 23,
      "outputs": [
        {
          "output_type": "execute_result",
          "data": {
            "text/plain": [
              "0.9333333333333333"
            ]
          },
          "metadata": {
            "tags": []
          },
          "execution_count": 23
        }
      ]
    },
    {
      "cell_type": "code",
      "metadata": {
        "colab": {
          "base_uri": "https://localhost:8080/"
        },
        "id": "9-SQd33zBNtr",
        "outputId": "fcde5965-e2bc-4c09-9610-5403512946d5"
      },
      "source": [
        "from sklearn.naive_bayes import GaussianNB\n",
        "classifier_nb = GaussianNB()\n",
        "classifier_nb.fit(x_train,y_train)"
      ],
      "execution_count": 24,
      "outputs": [
        {
          "output_type": "execute_result",
          "data": {
            "text/plain": [
              "GaussianNB(priors=None, var_smoothing=1e-09)"
            ]
          },
          "metadata": {
            "tags": []
          },
          "execution_count": 24
        }
      ]
    },
    {
      "cell_type": "code",
      "metadata": {
        "id": "MBYDDalPBRn9"
      },
      "source": [
        "y_pred = classifier_nb.predict(x_test)"
      ],
      "execution_count": 25,
      "outputs": []
    },
    {
      "cell_type": "code",
      "metadata": {
        "colab": {
          "base_uri": "https://localhost:8080/"
        },
        "id": "IrtbuqVrBV11",
        "outputId": "02f8ab4a-7af5-4ae4-c3ad-b93d5b0c14e4"
      },
      "source": [
        "confusion_matrix(y_test,y_pred)"
      ],
      "execution_count": 26,
      "outputs": [
        {
          "output_type": "execute_result",
          "data": {
            "text/plain": [
              "array([[ 8,  0,  0],\n",
              "       [ 0, 14,  0],\n",
              "       [ 0,  1,  7]])"
            ]
          },
          "metadata": {
            "tags": []
          },
          "execution_count": 26
        }
      ]
    },
    {
      "cell_type": "code",
      "metadata": {
        "colab": {
          "base_uri": "https://localhost:8080/"
        },
        "id": "LM8I83HLBa8_",
        "outputId": "7b66bf4f-dab0-4093-a11f-6605b37b3fea"
      },
      "source": [
        "from sklearn.tree import DecisionTreeClassifier\n",
        "classifier_dt = DecisionTreeClassifier(criterion = 'entropy')\n",
        "classifier_dt.fit(x_train,y_train)"
      ],
      "execution_count": 27,
      "outputs": [
        {
          "output_type": "execute_result",
          "data": {
            "text/plain": [
              "DecisionTreeClassifier(ccp_alpha=0.0, class_weight=None, criterion='entropy',\n",
              "                       max_depth=None, max_features=None, max_leaf_nodes=None,\n",
              "                       min_impurity_decrease=0.0, min_impurity_split=None,\n",
              "                       min_samples_leaf=1, min_samples_split=2,\n",
              "                       min_weight_fraction_leaf=0.0, presort='deprecated',\n",
              "                       random_state=None, splitter='best')"
            ]
          },
          "metadata": {
            "tags": []
          },
          "execution_count": 27
        }
      ]
    },
    {
      "cell_type": "code",
      "metadata": {
        "id": "RTulqMiIBjER"
      },
      "source": [
        "y_pred = classifier_dt.predict(x_test)"
      ],
      "execution_count": 28,
      "outputs": []
    },
    {
      "cell_type": "code",
      "metadata": {
        "colab": {
          "base_uri": "https://localhost:8080/"
        },
        "id": "LNSLtiQbBoS5",
        "outputId": "4babceaa-4396-42ec-ac63-1d87cd5c69c8"
      },
      "source": [
        "confusion_matrix(y_test,y_pred)"
      ],
      "execution_count": 29,
      "outputs": [
        {
          "output_type": "execute_result",
          "data": {
            "text/plain": [
              "array([[ 8,  0,  0],\n",
              "       [ 0, 14,  0],\n",
              "       [ 0,  1,  7]])"
            ]
          },
          "metadata": {
            "tags": []
          },
          "execution_count": 29
        }
      ]
    },
    {
      "cell_type": "code",
      "metadata": {
        "id": "lWWEdydpBscb"
      },
      "source": [
        ""
      ],
      "execution_count": null,
      "outputs": []
    }
  ]
}